{
 "cells": [
  {
   "cell_type": "markdown",
   "metadata": {},
   "source": [
    "# Join Statements - Lab\n",
    "\n",
    "## Introduction\n",
    "\n",
    "In this lab, you'll practice your knowledge of `JOIN` statements, using various types of joins and various methods for specifying the links between them.\n",
    "\n",
    "## Objectives\n",
    "\n",
    "You will be able to:\n",
    "* Write SQL queries that make use of various types of joins\n",
    "* Compare and contrast the various types of joins\n",
    "* Discuss how primary and foreign keys are used in SQL\n",
    "* Decide and perform whichever type of join is best for retrieving desired data"
   ]
  },
  {
   "cell_type": "markdown",
   "metadata": {},
   "source": [
    "## CRM Schema\n",
    "\n",
    "In almost all cases, rather than just working with a single table you will typically need data from multiple tables. \n",
    "Doing this requires the use of **joins** using shared columns from the two tables. \n",
    "\n",
    "In this lab, you'll use the same customer relationship management (CRM) database that you saw from the previous lesson.\n",
    "<img src='images/Database-Schema.png' width=\"600\">"
   ]
  },
  {
   "cell_type": "markdown",
   "metadata": {},
   "source": [
    "## Connecting to the Database\n",
    "Import the necessary packages and connect to the database `'data.sqlite'`."
   ]
  },
  {
   "cell_type": "code",
   "execution_count": 2,
   "metadata": {},
   "outputs": [],
   "source": [
    "# Your code here\n",
    "import sqlite3\n",
    "import pandas as pd\n",
    "conn = sqlite3.connect('data.sqlite')\n",
    "cur = conn.cursor()"
   ]
  },
  {
   "cell_type": "markdown",
   "metadata": {},
   "source": [
    "## Display the names of all the employees in Boston \n",
    "\n",
    "Hint: join the employees and offices tables."
   ]
  },
  {
   "cell_type": "code",
   "execution_count": 6,
   "metadata": {},
   "outputs": [
    {
     "data": {
      "text/html": [
       "<div>\n",
       "<style scoped>\n",
       "    .dataframe tbody tr th:only-of-type {\n",
       "        vertical-align: middle;\n",
       "    }\n",
       "\n",
       "    .dataframe tbody tr th {\n",
       "        vertical-align: top;\n",
       "    }\n",
       "\n",
       "    .dataframe thead th {\n",
       "        text-align: right;\n",
       "    }\n",
       "</style>\n",
       "<table border=\"1\" class=\"dataframe\">\n",
       "  <thead>\n",
       "    <tr style=\"text-align: right;\">\n",
       "      <th></th>\n",
       "      <th>lastName</th>\n",
       "      <th>firstName</th>\n",
       "    </tr>\n",
       "  </thead>\n",
       "  <tbody>\n",
       "    <tr>\n",
       "      <th>0</th>\n",
       "      <td>Firrelli</td>\n",
       "      <td>Julie</td>\n",
       "    </tr>\n",
       "    <tr>\n",
       "      <th>1</th>\n",
       "      <td>Patterson</td>\n",
       "      <td>Steve</td>\n",
       "    </tr>\n",
       "  </tbody>\n",
       "</table>\n",
       "</div>"
      ],
      "text/plain": [
       "    lastName firstName\n",
       "0   Firrelli     Julie\n",
       "1  Patterson     Steve"
      ]
     },
     "execution_count": 6,
     "metadata": {},
     "output_type": "execute_result"
    }
   ],
   "source": [
    "# Your code here\n",
    "cur.execute('''SELECT lastName, firstName FROM employees JOIN offices USING (officeCode) WHERE city = 'Boston' ''')\n",
    "\n",
    "df = pd.DataFrame(cur.fetchall()) \n",
    "df.columns = [i[0] for i in cur.description]\n",
    "df.head()"
   ]
  },
  {
   "cell_type": "markdown",
   "metadata": {},
   "source": [
    "## Are there any offices that have zero employees?\n",
    "Hint: Combine the employees and offices tables and use a group by."
   ]
  },
  {
   "cell_type": "code",
   "execution_count": 15,
   "metadata": {},
   "outputs": [
    {
     "data": {
      "text/html": [
       "<div>\n",
       "<style scoped>\n",
       "    .dataframe tbody tr th:only-of-type {\n",
       "        vertical-align: middle;\n",
       "    }\n",
       "\n",
       "    .dataframe tbody tr th {\n",
       "        vertical-align: top;\n",
       "    }\n",
       "\n",
       "    .dataframe thead th {\n",
       "        text-align: right;\n",
       "    }\n",
       "</style>\n",
       "<table border=\"1\" class=\"dataframe\">\n",
       "  <thead>\n",
       "    <tr style=\"text-align: right;\">\n",
       "      <th></th>\n",
       "      <th>employeeNumber</th>\n",
       "      <th>officeCode</th>\n",
       "      <th>city</th>\n",
       "    </tr>\n",
       "  </thead>\n",
       "  <tbody>\n",
       "    <tr>\n",
       "      <th>0</th>\n",
       "      <td>None</td>\n",
       "      <td>27</td>\n",
       "      <td>Boston</td>\n",
       "    </tr>\n",
       "  </tbody>\n",
       "</table>\n",
       "</div>"
      ],
      "text/plain": [
       "  employeeNumber  officeCode    city\n",
       "0           None          27  Boston"
      ]
     },
     "execution_count": 15,
     "metadata": {},
     "output_type": "execute_result"
    }
   ],
   "source": [
    "# Your code here\n",
    "cur.execute('''SELECT e.employeeNumber, o.officeCode, o.city  \n",
    "               FROM offices AS o\n",
    "               LEFT JOIN employees AS e\n",
    "               USING (officeCode) \n",
    "               GROUP BY officeCode \n",
    "               HAVING COUNT(e.employeeNumber) = 0''')\n",
    "\n",
    "df = pd.DataFrame(cur.fetchall()) \n",
    "df.columns = [i[0] for i in cur.description]\n",
    "df.head()"
   ]
  },
  {
   "cell_type": "markdown",
   "metadata": {},
   "source": [
    "## Write 3 Questions of your own and answer them"
   ]
  },
  {
   "cell_type": "code",
   "execution_count": null,
   "metadata": {},
   "outputs": [],
   "source": [
    "# Answers will vary\n",
    "# Example: Display the htmlDescription and employee's first and last name for each product that each employee has sold"
   ]
  },
  {
   "cell_type": "code",
   "execution_count": null,
   "metadata": {},
   "outputs": [],
   "source": [
    "# Your code here"
   ]
  },
  {
   "cell_type": "code",
   "execution_count": null,
   "metadata": {},
   "outputs": [],
   "source": [
    "# Your code here"
   ]
  },
  {
   "cell_type": "code",
   "execution_count": null,
   "metadata": {},
   "outputs": [],
   "source": [
    "# Your code here"
   ]
  },
  {
   "cell_type": "markdown",
   "metadata": {},
   "source": [
    "## Level Up: Display the names of every individual product that each employee has sold"
   ]
  },
  {
   "cell_type": "code",
   "execution_count": 20,
   "metadata": {},
   "outputs": [
    {
     "data": {
      "text/html": [
       "<div>\n",
       "<style scoped>\n",
       "    .dataframe tbody tr th:only-of-type {\n",
       "        vertical-align: middle;\n",
       "    }\n",
       "\n",
       "    .dataframe tbody tr th {\n",
       "        vertical-align: top;\n",
       "    }\n",
       "\n",
       "    .dataframe thead th {\n",
       "        text-align: right;\n",
       "    }\n",
       "</style>\n",
       "<table border=\"1\" class=\"dataframe\">\n",
       "  <thead>\n",
       "    <tr style=\"text-align: right;\">\n",
       "      <th></th>\n",
       "      <th>employeeNumber</th>\n",
       "      <th>productName</th>\n",
       "    </tr>\n",
       "  </thead>\n",
       "  <tbody>\n",
       "    <tr>\n",
       "      <th>0</th>\n",
       "      <td>1165</td>\n",
       "      <td>1958 Setra Bus</td>\n",
       "    </tr>\n",
       "    <tr>\n",
       "      <th>1</th>\n",
       "      <td>1165</td>\n",
       "      <td>1940 Ford Pickup Truck</td>\n",
       "    </tr>\n",
       "    <tr>\n",
       "      <th>2</th>\n",
       "      <td>1165</td>\n",
       "      <td>1939 Cadillac Limousine</td>\n",
       "    </tr>\n",
       "    <tr>\n",
       "      <th>3</th>\n",
       "      <td>1165</td>\n",
       "      <td>1996 Peterbilt 379 Stake Bed with Outrigger</td>\n",
       "    </tr>\n",
       "    <tr>\n",
       "      <th>4</th>\n",
       "      <td>1165</td>\n",
       "      <td>1968 Ford Mustang</td>\n",
       "    </tr>\n",
       "    <tr>\n",
       "      <th>...</th>\n",
       "      <td>...</td>\n",
       "      <td>...</td>\n",
       "    </tr>\n",
       "    <tr>\n",
       "      <th>2991</th>\n",
       "      <td>1702</td>\n",
       "      <td>1954 Greyhound Scenicruiser</td>\n",
       "    </tr>\n",
       "    <tr>\n",
       "      <th>2992</th>\n",
       "      <td>1702</td>\n",
       "      <td>1950's Chicago Surface Lines Streetcar</td>\n",
       "    </tr>\n",
       "    <tr>\n",
       "      <th>2993</th>\n",
       "      <td>1702</td>\n",
       "      <td>Diamond T620 Semi-Skirted Tanker</td>\n",
       "    </tr>\n",
       "    <tr>\n",
       "      <th>2994</th>\n",
       "      <td>1702</td>\n",
       "      <td>1911 Ford Town Car</td>\n",
       "    </tr>\n",
       "    <tr>\n",
       "      <th>2995</th>\n",
       "      <td>1702</td>\n",
       "      <td>1936 Mercedes Benz 500k Roadster</td>\n",
       "    </tr>\n",
       "  </tbody>\n",
       "</table>\n",
       "<p>2996 rows × 2 columns</p>\n",
       "</div>"
      ],
      "text/plain": [
       "      employeeNumber                                  productName\n",
       "0               1165                               1958 Setra Bus\n",
       "1               1165                       1940 Ford Pickup Truck\n",
       "2               1165                      1939 Cadillac Limousine\n",
       "3               1165  1996 Peterbilt 379 Stake Bed with Outrigger\n",
       "4               1165                            1968 Ford Mustang\n",
       "...              ...                                          ...\n",
       "2991            1702                  1954 Greyhound Scenicruiser\n",
       "2992            1702       1950's Chicago Surface Lines Streetcar\n",
       "2993            1702             Diamond T620 Semi-Skirted Tanker\n",
       "2994            1702                           1911 Ford Town Car\n",
       "2995            1702             1936 Mercedes Benz 500k Roadster\n",
       "\n",
       "[2996 rows x 2 columns]"
      ]
     },
     "execution_count": 20,
     "metadata": {},
     "output_type": "execute_result"
    }
   ],
   "source": [
    "# Your code here\n",
    "cur.execute('''SELECT e.employeeNumber, p.productName\n",
    "               FROM employees AS e\n",
    "               JOIN customers AS c\n",
    "               ON e.employeeNumber = c.salesRepEmployeeNumber\n",
    "               JOIN orders AS o\n",
    "               USING (customerNumber)\n",
    "               JOIN orderdetails AS od\n",
    "               USING (orderNumber)\n",
    "               JOIN products AS p\n",
    "               USING (productCode)\n",
    "               \n",
    "               ''')\n",
    "\n",
    "df = pd.DataFrame(cur.fetchall()) \n",
    "df.columns = [i[0] for i in cur.description]\n",
    "df"
   ]
  },
  {
   "cell_type": "markdown",
   "metadata": {},
   "source": [
    "## Level Up: Display the Number of Products each employee has sold"
   ]
  },
  {
   "cell_type": "code",
   "execution_count": null,
   "metadata": {},
   "outputs": [],
   "source": [
    "# Your code here"
   ]
  },
  {
   "cell_type": "markdown",
   "metadata": {},
   "source": [
    "## Summary"
   ]
  },
  {
   "cell_type": "markdown",
   "metadata": {},
   "source": [
    "Congrats! You practiced using join statements and leveraged your foreign keys knowledge!"
   ]
  }
 ],
 "metadata": {
  "kernelspec": {
   "display_name": "Python 3",
   "language": "python",
   "name": "python3"
  },
  "language_info": {
   "codemirror_mode": {
    "name": "ipython",
    "version": 3
   },
   "file_extension": ".py",
   "mimetype": "text/x-python",
   "name": "python",
   "nbconvert_exporter": "python",
   "pygments_lexer": "ipython3",
   "version": "3.8.5"
  },
  "toc": {
   "base_numbering": 1,
   "nav_menu": {},
   "number_sections": true,
   "sideBar": true,
   "skip_h1_title": false,
   "title_cell": "Table of Contents",
   "title_sidebar": "Contents",
   "toc_cell": false,
   "toc_position": {},
   "toc_section_display": true,
   "toc_window_display": false
  }
 },
 "nbformat": 4,
 "nbformat_minor": 2
}
